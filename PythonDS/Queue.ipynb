{
 "cells": [
  {
   "cell_type": "code",
   "execution_count": 11,
   "metadata": {
    "collapsed": false
   },
   "outputs": [],
   "source": [
    "# FIFO\n",
    "# Enqueue: use list.PushBack\n",
    "# Dequeue: use list.TopFront and list.PopFront\n",
    "\n",
    "class Node:\n",
    "    def __init__(self, key):\n",
    "        self.key = key\n",
    "        self.pointer_next = None\n",
    "    \n",
    "class Queue_byLinkedList:\n",
    "    def __init__(self):\n",
    "        self.header = None\n",
    "    \n",
    "    def isEmpty(self):\n",
    "        return self.header is None\n",
    "    \n",
    "    def enqueue(self, key):\n",
    "        if self.isEmpty():\n",
    "            self.header = Node(key)\n",
    "        else:\n",
    "            tmp = Node(key)\n",
    "            head_mark = self.header\n",
    "            while self.header.pointer_next is not None:\n",
    "                self.header = self.header.pointer_next\n",
    "            self.header.pointer_next = tmp\n",
    "            self.header = head_mark\n",
    "        print \"Put 1 item in queue: %s\" % key\n",
    "\n",
    "    def dequeue(self):\n",
    "        if self.isEmpty():\n",
    "            print \"ERROR: empty queue!\"\n",
    "        else:\n",
    "            tmp = self.header\n",
    "            self.header = self.header.pointer_next\n",
    "            print \"Dequeue 1 item: %s\" % tmp.key\n",
    "            return tmp.key\n",
    "    "
   ]
  },
  {
   "cell_type": "code",
   "execution_count": 15,
   "metadata": {
    "collapsed": true
   },
   "outputs": [],
   "source": [
    "q = Queue_byLinkedList()"
   ]
  },
  {
   "cell_type": "code",
   "execution_count": 16,
   "metadata": {
    "collapsed": false
   },
   "outputs": [
    {
     "data": {
      "text/plain": [
       "True"
      ]
     },
     "execution_count": 16,
     "metadata": {},
     "output_type": "execute_result"
    }
   ],
   "source": [
    "q.isEmpty()"
   ]
  },
  {
   "cell_type": "code",
   "execution_count": 17,
   "metadata": {
    "collapsed": false
   },
   "outputs": [
    {
     "name": "stdout",
     "output_type": "stream",
     "text": [
      "Put 1 item in queue: 1\n",
      "Put 1 item in queue: 2\n",
      "Put 1 item in queue: 3\n",
      "Put 1 item in queue: 4\n",
      "Dequeue 1 item: 1\n",
      "Dequeue 1 item: 2\n",
      "Dequeue 1 item: 3\n",
      "Dequeue 1 item: 4\n",
      "ERROR: empty queue!\n"
     ]
    }
   ],
   "source": [
    "q.enqueue(1)\n",
    "q.enqueue(2)\n",
    "q.enqueue(3)\n",
    "q.enqueue(4)\n",
    "q.dequeue()\n",
    "q.dequeue()\n",
    "q.dequeue()\n",
    "q.dequeue()\n",
    "q.dequeue()"
   ]
  },
  {
   "cell_type": "code",
   "execution_count": null,
   "metadata": {
    "collapsed": true
   },
   "outputs": [],
   "source": []
  }
 ],
 "metadata": {
  "kernelspec": {
   "display_name": "Python 2",
   "language": "python",
   "name": "python2"
  },
  "language_info": {
   "codemirror_mode": {
    "name": "ipython",
    "version": 2
   },
   "file_extension": ".py",
   "mimetype": "text/x-python",
   "name": "python",
   "nbconvert_exporter": "python",
   "pygments_lexer": "ipython2",
   "version": "2.7.11"
  }
 },
 "nbformat": 4,
 "nbformat_minor": 0
}
