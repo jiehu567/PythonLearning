{
 "cells": [
  {
   "cell_type": "code",
   "execution_count": 35,
   "metadata": {
    "collapsed": true
   },
   "outputs": [],
   "source": [
    "# This is a improved version of linked list\n",
    "# 1. make it more Python\n",
    "# 2. remove unnecessary list of items\n",
    "# 3. add constructor, and modify the push code, make it simpler\n",
    "\n",
    "class Node:\n",
    "    def __init__(self, key):\n",
    "        self.key = key\n",
    "        self.pointer_next = None\n",
    "        \n",
    "class LinkedList:\n",
    "    \n",
    "    def __init__(self):\n",
    "        self.header = None\n",
    "    \n",
    "    def isEmpty(self):\n",
    "        return self.header is None\n",
    "    \n",
    "    def pushFront(self, key):\n",
    "        if self.header is None:\n",
    "            self.header = Node(key)\n",
    "        else:\n",
    "            tmp = Node(key)\n",
    "            tmp.pointer_next = self.header\n",
    "            self.header = tmp\n",
    "    \n",
    "    def popFront(self):\n",
    "        if self.isEmpty():\n",
    "            print \"Error, the list is empty\"\n",
    "        else:\n",
    "            print \"Pop out element %s in front\" % self.header.key\n",
    "            self.header = self.header.pointer_next\n",
    "    \n",
    "    def topFront(self):\n",
    "        if self.isEmpty():\n",
    "            print \"Error, the list is empty\"\n",
    "            \n",
    "        else:\n",
    "            tmp_key = self.header.key\n",
    "            print \"Pop out element %s in front\" % tmp_key\n",
    "            self.header = self.header.pointer_next\n",
    "            return tmp_key\n",
    "    \n",
    "    def findElement(self,key):\n",
    "        count = 1\n",
    "        result = []\n",
    "        while self.header is not None:\n",
    "            tmp_pointer = self.header\n",
    "            \n",
    "            if self.header.key is key: \n",
    "                print \"Found the key %s at %d position!\" % (key,count)\n",
    "                result.append(count)\n",
    "\n",
    "            self.header = self.header.pointer_next\n",
    "            count +=1\n",
    "        \n",
    "        if not result:\n",
    "            print \"Can not find the key %s\" % key\n",
    "        \n",
    "        return result"
   ]
  },
  {
   "cell_type": "code",
   "execution_count": 36,
   "metadata": {
    "collapsed": false
   },
   "outputs": [],
   "source": [
    "lst = LinkedList()"
   ]
  },
  {
   "cell_type": "code",
   "execution_count": 37,
   "metadata": {
    "collapsed": false
   },
   "outputs": [
    {
     "data": {
      "text/plain": [
       "True"
      ]
     },
     "execution_count": 37,
     "metadata": {},
     "output_type": "execute_result"
    }
   ],
   "source": [
    "lst.isEmpty()"
   ]
  },
  {
   "cell_type": "code",
   "execution_count": 38,
   "metadata": {
    "collapsed": false
   },
   "outputs": [
    {
     "name": "stdout",
     "output_type": "stream",
     "text": [
      "Pop out element 5 in front\n",
      "Pop out element 4 in front\n",
      "Pop out element 3 in front\n",
      "Error, the list is empty\n",
      "Error, the list is empty\n"
     ]
    }
   ],
   "source": [
    "lst.pushFront(3)\n",
    "lst.pushFront(4)\n",
    "lst.pushFront(5)\n",
    "lst.popFront()\n",
    "lst.topFront()\n",
    "lst.topFront()\n",
    "lst.topFront()\n",
    "lst.topFront()"
   ]
  },
  {
   "cell_type": "code",
   "execution_count": 39,
   "metadata": {
    "collapsed": false
   },
   "outputs": [
    {
     "name": "stdout",
     "output_type": "stream",
     "text": [
      "Found the key 3 at 3 position!\n",
      "Found the key 3 at 6 position!\n"
     ]
    },
    {
     "data": {
      "text/plain": [
       "[3, 6]"
      ]
     },
     "execution_count": 39,
     "metadata": {},
     "output_type": "execute_result"
    }
   ],
   "source": [
    "lst.pushFront(3)\n",
    "lst.pushFront(4)\n",
    "lst.pushFront(5)\n",
    "lst.pushFront(3)\n",
    "lst.pushFront(4)\n",
    "lst.pushFront(5)\n",
    "lst.findElement(3)"
   ]
  },
  {
   "cell_type": "code",
   "execution_count": 29,
   "metadata": {
    "collapsed": true
   },
   "outputs": [],
   "source": []
  },
  {
   "cell_type": "code",
   "execution_count": 33,
   "metadata": {
    "collapsed": false
   },
   "outputs": [],
   "source": []
  },
  {
   "cell_type": "code",
   "execution_count": 34,
   "metadata": {
    "collapsed": false
   },
   "outputs": [
    {
     "data": {
      "text/plain": [
       "[1, 2]"
      ]
     },
     "execution_count": 34,
     "metadata": {},
     "output_type": "execute_result"
    }
   ],
   "source": []
  },
  {
   "cell_type": "code",
   "execution_count": null,
   "metadata": {
    "collapsed": true
   },
   "outputs": [],
   "source": []
  }
 ],
 "metadata": {
  "kernelspec": {
   "display_name": "Python 2",
   "language": "python",
   "name": "python2"
  },
  "language_info": {
   "codemirror_mode": {
    "name": "ipython",
    "version": 2
   },
   "file_extension": ".py",
   "mimetype": "text/x-python",
   "name": "python",
   "nbconvert_exporter": "python",
   "pygments_lexer": "ipython2",
   "version": "2.7.11"
  }
 },
 "nbformat": 4,
 "nbformat_minor": 0
}
