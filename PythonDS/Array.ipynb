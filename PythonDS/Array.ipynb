{
 "cells": [
  {
   "cell_type": "code",
   "execution_count": 1,
   "metadata": {
    "collapsed": true
   },
   "outputs": [],
   "source": [
    "arr = [None]*5\n",
    "\n",
    "# Contiguous area of memory\n",
    "# equal-size of elements\n",
    "# indexed by contiguous integers\n",
    "# const time access\n",
    "# array_addr + elem_size * (i-first_index)\n",
    "# 2-dim   addr + elem_size* ((3-1)*6 + (4-1))\n",
    "# column-major: 1st change fastest"
   ]
  },
  {
   "cell_type": "markdown",
   "metadata": {},
   "source": [
    "Time:\n",
    "\n",
    "|           | Add  | Remove |\n",
    "|-----------|------|--------|\n",
    "| Beginning | O(n) | O(n)   |\n",
    "| End       | O(1) | O(1)   |\n",
    "| Middle    | O(n) | O(n)   |"
   ]
  },
  {
   "cell_type": "code",
   "execution_count": null,
   "metadata": {
    "collapsed": true
   },
   "outputs": [],
   "source": []
  }
 ],
 "metadata": {
  "kernelspec": {
   "display_name": "Python 2",
   "language": "python",
   "name": "python2"
  },
  "language_info": {
   "codemirror_mode": {
    "name": "ipython",
    "version": 2
   },
   "file_extension": ".py",
   "mimetype": "text/x-python",
   "name": "python",
   "nbconvert_exporter": "python",
   "pygments_lexer": "ipython2",
   "version": "2.7.11"
  }
 },
 "nbformat": 4,
 "nbformat_minor": 0
}
