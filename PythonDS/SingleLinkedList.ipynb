{
 "cells": [
  {
   "cell_type": "markdown",
   "metadata": {},
   "source": [
    "Node contains: \n",
    "* key\n",
    "* Next pointer\n",
    "\n",
    "\n",
    "List API:\n",
    "* PushFront(Key)   # add to front\n",
    "    node <- new node\n",
    "    node.key <- key\n",
    "    node.next <- head\n",
    "    head <- node\n",
    "    if tail = nil:\n",
    "        tail <- head\n",
    " \n",
    "* Key TopFront()   # return front item\n",
    "* PopFront()       # remove front item\n",
    "    if head = nil: \n",
    "        ERROR: empty list\n",
    "    head <- head.next\n",
    "    if head = nil:\n",
    "        tail <- nil\n",
    "\n",
    "\n",
    "* PushBack(Key)    # add to back\n",
    "    node <- new node\n",
    "    node.key <- key\n",
    "    node.next <- nil\n",
    "    if tail = nil:\n",
    "        head <- tail <- node\n",
    "    else:\n",
    "        tail.next <- node\n",
    "        tail <- node\n",
    "\n",
    "* Key TopBack()    # return back item\n",
    "* PopBack()        # remove back item\n",
    "* Boolean Find(Key)\n",
    "* Erace(Key)\n",
    "* Boolean Empty()\n",
    "* AddBefore(Node, Key)\n",
    "* AddAfter(Node, Key)\n",
    "\n",
    "\n",
    "Doubly-linked list\n",
    "* PushBack\n",
    "    Node = new node\n",
    "    node.key = key\n",
    "    node.next = nil\n",
    "    if tail = nil:\n",
    "        head <- tail <- node\n",
    "        node.pre <- nil\n",
    "    else:\n",
    "        tail.next = node\n",
    "        node.pre = tail\n",
    "        tail = node\n",
    "    \n"
   ]
  },
  {
   "cell_type": "code",
   "execution_count": 196,
   "metadata": {
    "collapsed": false
   },
   "outputs": [],
   "source": [
    "# Realize by python\n",
    "class Node:\n",
    "    pointer_next = None\n",
    "    key = None\n",
    "\n",
    "'''\n",
    "    def __init__(self, key):\n",
    "        self.key = key\n",
    "        self.pointer_next = None\n",
    "'''\n",
    "\n",
    "\n",
    "class slinkList:\n",
    "    header = None\n",
    "    \n",
    "    def isEmpty(self): return self.header == None\n",
    "    \n",
    "    def pushFront(self, key):\n",
    "        newNode = Node()\n",
    "        newNode.key = key\n",
    "        newNode.pointer_next = self.header\n",
    "        self.header = newNode\n",
    "    \n",
    "    def popFront(self):\n",
    "        if self.isEmpty(): print \"ERROR: No more element\"\n",
    "        else:\n",
    "            self.header = self.header.pointer_next\n",
    "    \n",
    "    def topFront(self):\n",
    "        if self.isEmpty(): \n",
    "            print \"ERROR: No more element\"\n",
    "            return self.header\n",
    "        else:\n",
    "            temp = self.header\n",
    "            self.header = self.header.pointer_next\n",
    "            print temp.key\n",
    "            return temp\n",
    "    \n",
    "    def pushBack(self, key):\n",
    "        newNode = Node()\n",
    "        newNode.key = key\n",
    "        \n",
    "        if self.isEmpty():\n",
    "            self.header = newNode\n",
    "            self.header.pointer_next = None\n",
    "            \n",
    "        else:\n",
    "            tmp = self.header\n",
    "            while tmp.pointer_next != None:\n",
    "                tmp = tmp.pointer_next\n",
    "\n",
    "            tmp.pointer_next = newNode\n",
    "            newNode.pointer_next = None\n",
    "    \n",
    "    def popBack(self):\n",
    "        if self.isEmpty(): \n",
    "            print \"ERROR: No more element\"\n",
    "            \n",
    "        elif self.header.pointer_next == None:\n",
    "            self.header = None\n",
    "            print \"The list now is empty!\"\n",
    "        \n",
    "        else:\n",
    "            tmp = self.header\n",
    "            while tmp.pointer_next.pointer_next != None:\n",
    "                tmp = tmp.pointer_next\n",
    "            tmp.pointer_next = None\n",
    "    \n",
    "    def topBack(self):\n",
    "        if self.isEmpty(): \n",
    "            print \"ERROR: No more element\"\n",
    "            return self.header\n",
    "        \n",
    "        elif self.header.pointer_next == None:\n",
    "            print self.header.key\n",
    "            self.header = None\n",
    "            print \"The list now is empty!\"\n",
    "            return self.header\n",
    "            \n",
    "        else:\n",
    "            tmp = self.header\n",
    "            \n",
    "            while tmp.pointer_next.pointer_next != None:\n",
    "                tmp = tmp.pointer_next\n",
    "            print tmp.pointer_next.key\n",
    "            tail = tmp.pointer_next\n",
    "            tmp.pointer_next = None\n",
    "            return tail\n",
    "        \n",
    "    def findElement(self,key):\n",
    "        tmp = self.header\n",
    "        count = 0\n",
    "        while tmp.pointer_next != None:\n",
    "            tmp = tmp.pointer_next\n",
    "            count+=1\n",
    "            \n",
    "            if tmp.key == key: \n",
    "                print \"The element %s is at %dth position!\" % (key, count+1)\n",
    "                return True\n",
    "            \n",
    "        print \"Can't find the element %d!\" % key\n",
    "        return False\n",
    "    \n",
    "    # addBefore, addAfter, eraseElement are not finished\n",
    "        \n",
    "        "
   ]
  },
  {
   "cell_type": "code",
   "execution_count": 197,
   "metadata": {
    "collapsed": false
   },
   "outputs": [
    {
     "data": {
      "text/plain": [
       "True"
      ]
     },
     "execution_count": 197,
     "metadata": {},
     "output_type": "execute_result"
    }
   ],
   "source": [
    "lst1 = slinkList()\n",
    "lst1\n",
    "lst1.isEmpty()"
   ]
  },
  {
   "cell_type": "code",
   "execution_count": 168,
   "metadata": {
    "collapsed": false
   },
   "outputs": [
    {
     "data": {
      "text/plain": [
       "12"
      ]
     },
     "execution_count": 168,
     "metadata": {},
     "output_type": "execute_result"
    }
   ],
   "source": [
    "lst1.pushFront(12)\n",
    "lst1.header.key      # 12"
   ]
  },
  {
   "cell_type": "code",
   "execution_count": 169,
   "metadata": {
    "collapsed": false
   },
   "outputs": [
    {
     "data": {
      "text/plain": [
       "True"
      ]
     },
     "execution_count": 169,
     "metadata": {},
     "output_type": "execute_result"
    }
   ],
   "source": [
    "lst1.popFront() \n",
    "lst1.isEmpty()      # True"
   ]
  },
  {
   "cell_type": "code",
   "execution_count": 170,
   "metadata": {
    "collapsed": false
   },
   "outputs": [
    {
     "name": "stdout",
     "output_type": "stream",
     "text": [
      "17\n",
      "15\n",
      "13\n",
      "ERROR: No more element\n"
     ]
    }
   ],
   "source": [
    "# Test for topFront\n",
    "lst1.pushFront(13)\n",
    "lst1.pushFront(15)\n",
    "lst1.pushFront(17)\n",
    "\n",
    "lst1.isEmpty()      # False\n",
    "lst1.topFront()     # 17\n",
    "lst1.topFront()     # 15\n",
    "lst1.topFront()     # 13\n",
    "lst1.topFront()     # ERROR: No more element"
   ]
  },
  {
   "cell_type": "code",
   "execution_count": 171,
   "metadata": {
    "collapsed": false
   },
   "outputs": [
    {
     "data": {
      "text/plain": [
       "False"
      ]
     },
     "execution_count": 171,
     "metadata": {},
     "output_type": "execute_result"
    }
   ],
   "source": [
    "# Test for pushBack\n",
    "lst1.pushBack(1)\n",
    "lst1.pushBack(2)\n",
    "lst1.pushBack(3)\n",
    "\n",
    "lst1.isEmpty()"
   ]
  },
  {
   "cell_type": "code",
   "execution_count": 172,
   "metadata": {
    "collapsed": false
   },
   "outputs": [
    {
     "name": "stdout",
     "output_type": "stream",
     "text": [
      "1\n",
      "2\n",
      "3\n",
      "ERROR: No more element\n"
     ]
    }
   ],
   "source": [
    "lst1.topFront()   # 1\n",
    "lst1.topFront()   # 2\n",
    "lst1.topFront()   # 3\n",
    "lst1.topFront()   # ERROR: No more element"
   ]
  },
  {
   "cell_type": "code",
   "execution_count": 173,
   "metadata": {
    "collapsed": false
   },
   "outputs": [],
   "source": [
    "# Test for popBack and topBack\n",
    "lst1.pushBack(1)\n",
    "lst1.pushBack(2)\n",
    "lst1.pushBack(3)\n",
    "lst1.pushBack(4)\n",
    "lst1.pushBack(5)\n",
    "lst1.pushBack(6)"
   ]
  },
  {
   "cell_type": "code",
   "execution_count": 174,
   "metadata": {
    "collapsed": false
   },
   "outputs": [
    {
     "name": "stdout",
     "output_type": "stream",
     "text": [
      "5\n",
      "3\n",
      "1\n",
      "The list now is empty!\n",
      "ERROR: No more element\n"
     ]
    }
   ],
   "source": [
    "lst1.popBack()\n",
    "lst1.topBack()\n",
    "lst1.popBack()\n",
    "lst1.topBack()\n",
    "lst1.popBack()\n",
    "lst1.topBack()\n",
    "lst1.topBack()"
   ]
  },
  {
   "cell_type": "code",
   "execution_count": 199,
   "metadata": {
    "collapsed": false
   },
   "outputs": [
    {
     "name": "stdout",
     "output_type": "stream",
     "text": [
      "The element 3 is at 3th position!\n",
      "Can't find the element 9!\n",
      "The element 6 is at 6th position!\n"
     ]
    },
    {
     "data": {
      "text/plain": [
       "True"
      ]
     },
     "execution_count": 199,
     "metadata": {},
     "output_type": "execute_result"
    }
   ],
   "source": [
    "# Test for findElement\n",
    "lst1.pushBack(1)\n",
    "lst1.pushBack(2)\n",
    "lst1.pushBack(3)\n",
    "lst1.pushBack(4)\n",
    "lst1.pushBack(5)\n",
    "lst1.pushBack(6)\n",
    "lst1.findElement(3)\n",
    "lst1.findElement(9)\n",
    "lst1.findElement(6)"
   ]
  },
  {
   "cell_type": "code",
   "execution_count": 204,
   "metadata": {
    "collapsed": false
   },
   "outputs": [
    {
     "name": "stdout",
     "output_type": "stream",
     "text": [
      "1\n",
      "2\n",
      "3\n",
      "4\n",
      "5\n",
      "6\n",
      "7\n",
      "8\n",
      "9\n"
     ]
    }
   ],
   "source": []
  },
  {
   "cell_type": "code",
   "execution_count": null,
   "metadata": {
    "collapsed": true
   },
   "outputs": [],
   "source": []
  }
 ],
 "metadata": {
  "kernelspec": {
   "display_name": "Python 2",
   "language": "python",
   "name": "python2"
  },
  "language_info": {
   "codemirror_mode": {
    "name": "ipython",
    "version": 2
   },
   "file_extension": ".py",
   "mimetype": "text/x-python",
   "name": "python",
   "nbconvert_exporter": "python",
   "pygments_lexer": "ipython2",
   "version": "2.7.11"
  }
 },
 "nbformat": 4,
 "nbformat_minor": 0
}
