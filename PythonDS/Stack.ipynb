{
 "cells": [
  {
   "cell_type": "code",
   "execution_count": 11,
   "metadata": {
    "collapsed": true
   },
   "outputs": [],
   "source": [
    "# implementation of a simple stack\n",
    "\n",
    "class Node:\n",
    "    def __init__(self, key):\n",
    "        self.key = key\n",
    "        self.pointer_next = None\n",
    "\n",
    "class stack_byLinkedList:\n",
    "    \n",
    "    def __init__(self):\n",
    "        self.header = None\n",
    "    \n",
    "    def isEmpty(self):\n",
    "        return self.header is None\n",
    "    \n",
    "    def pushItem(self,key):\n",
    "        if self.header is None:\n",
    "            self.header = Node(key)\n",
    "        else:\n",
    "            temp_pointer = Node(key)\n",
    "            temp_pointer.pointer_next = self.header\n",
    "            self.header = temp_pointer\n",
    "        print \"Add item %s!\" % key\n",
    "        \n",
    "    def popItem(self):\n",
    "        if self.isEmpty():\n",
    "            print \"No more element!\"\n",
    "        else:\n",
    "            tmp = self.header\n",
    "            self.header = self.header.pointer_next\n",
    "            print \"Pop out element %s!\" % tmp.key\n",
    "            return tmp.key\n"
   ]
  },
  {
   "cell_type": "code",
   "execution_count": 12,
   "metadata": {
    "collapsed": true
   },
   "outputs": [],
   "source": [
    "st = stack_byLinkedList()"
   ]
  },
  {
   "cell_type": "code",
   "execution_count": 13,
   "metadata": {
    "collapsed": false
   },
   "outputs": [
    {
     "data": {
      "text/plain": [
       "True"
      ]
     },
     "execution_count": 13,
     "metadata": {},
     "output_type": "execute_result"
    }
   ],
   "source": [
    "st.isEmpty()"
   ]
  },
  {
   "cell_type": "code",
   "execution_count": 14,
   "metadata": {
    "collapsed": false
   },
   "outputs": [
    {
     "name": "stdout",
     "output_type": "stream",
     "text": [
      "Add item 1!\n",
      "Add item 2!\n",
      "Add item 3!\n",
      "Pop out element 3!\n",
      "Pop out element 2!\n",
      "Pop out element 1!\n",
      "No more element!\n",
      "No more element!\n"
     ]
    }
   ],
   "source": [
    "st.pushItem(1)\n",
    "st.pushItem(2)\n",
    "st.pushItem(3)\n",
    "st.popItem()\n",
    "st.popItem()\n",
    "st.popItem()\n",
    "st.popItem()\n",
    "st.popItem()"
   ]
  },
  {
   "cell_type": "code",
   "execution_count": 24,
   "metadata": {
    "collapsed": false
   },
   "outputs": [],
   "source": [
    "def IsBalanced(str):\n",
    "    stack = stack_byLinkedList()\n",
    "    for char in str:\n",
    "        if char in ['(','[']:\n",
    "            stack.pushItem(char)\n",
    "        else:\n",
    "            if stack.isEmpty():\n",
    "                return False\n",
    "            top = stack.popItem()\n",
    "            if (top is '[' and char is not ']') or \\\n",
    "               (top is '(' and char is not ')'):\n",
    "                    return False\n",
    "    return stack.isEmpty()"
   ]
  },
  {
   "cell_type": "code",
   "execution_count": 32,
   "metadata": {
    "collapsed": false
   },
   "outputs": [
    {
     "name": "stdout",
     "output_type": "stream",
     "text": [
      "Enter a string with only '[]' and '()':()()()()(())[[]]\n",
      "Add item (!\n",
      "Pop out element (!\n",
      "Add item (!\n",
      "Pop out element (!\n",
      "Add item (!\n",
      "Pop out element (!\n",
      "Add item (!\n",
      "Pop out element (!\n",
      "Add item (!\n",
      "Add item (!\n",
      "Pop out element (!\n",
      "Pop out element (!\n",
      "Add item [!\n",
      "Add item [!\n",
      "Pop out element [!\n",
      "Pop out element [!\n"
     ]
    },
    {
     "data": {
      "text/plain": [
       "True"
      ]
     },
     "execution_count": 32,
     "metadata": {},
     "output_type": "execute_result"
    }
   ],
   "source": [
    "str = raw_input(\"Enter a string with only \\'[]\\' and \\'()\\':\")\n",
    "IsBalanced(str)"
   ]
  },
  {
   "cell_type": "code",
   "execution_count": 31,
   "metadata": {
    "collapsed": false
   },
   "outputs": [
    {
     "data": {
      "text/plain": [
       "False"
      ]
     },
     "execution_count": 31,
     "metadata": {},
     "output_type": "execute_result"
    }
   ],
   "source": []
  },
  {
   "cell_type": "code",
   "execution_count": null,
   "metadata": {
    "collapsed": true
   },
   "outputs": [],
   "source": []
  }
 ],
 "metadata": {
  "kernelspec": {
   "display_name": "Python 2",
   "language": "python",
   "name": "python2"
  },
  "language_info": {
   "codemirror_mode": {
    "name": "ipython",
    "version": 2
   },
   "file_extension": ".py",
   "mimetype": "text/x-python",
   "name": "python",
   "nbconvert_exporter": "python",
   "pygments_lexer": "ipython2",
   "version": "2.7.11"
  }
 },
 "nbformat": 4,
 "nbformat_minor": 0
}
